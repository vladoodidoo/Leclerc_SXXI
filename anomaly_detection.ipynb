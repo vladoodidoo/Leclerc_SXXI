{
 "cells": [
  {
   "cell_type": "code",
   "execution_count": null,
   "outputs": [],
   "source": [
    "!ls dataset.zip || {wget --load-cookies /tmp/cookies.txt \"https://docs.google.com/uc?export=download&confirm=$(wget --quiet --save-cookies /tmp/cookies.txt --keep-session-cookies --no-check-certificate 'https://docs.google.com/uc?export=download&id=FILEID' -O- | sed -rn 's/.*confirm=([0-9A-Za-z_]+).*/\\1\\n/p')&id=1V_a2wmNp3o02X2j0PONTtCCPCOn-kiJl\" -O dataset.zip && rm -rf /tmp/cookies.txt}"
   ],
   "metadata": {
    "collapsed": false
   },
   "id": "b496f480806801e6"
  },
  {
   "cell_type": "code",
   "execution_count": null,
   "outputs": [],
   "source": [
    "!ls dataset/ || unzip dataset.zip"
   ],
   "metadata": {
    "collapsed": false
   },
   "id": "5ebd1eb6042fb127"
  },
  {
   "cell_type": "code",
   "execution_count": null,
   "id": "initial_id",
   "metadata": {
    "collapsed": true
   },
   "outputs": [],
   "source": [
    "import pandas as pd"
   ]
  },
  {
   "cell_type": "code",
   "execution_count": null,
   "outputs": [],
   "source": [
    "network_normal_data = pd.read_csv(\"dataset/Network datatset/csv/normal.csv\")"
   ],
   "metadata": {
    "collapsed": false
   },
   "id": "ba9fa24b090ef012"
  },
  {
   "cell_type": "code",
   "execution_count": null,
   "outputs": [],
   "source": [
    "physical_normal_data = pd.read_csv(\"dataset/Physical dataset/phy_norm.csv\", encoding='utf-16')"
   ],
   "metadata": {
    "collapsed": false
   },
   "id": "61baac5d20a3af0a"
  },
  {
   "cell_type": "code",
   "execution_count": null,
   "outputs": [],
   "source": [
    "network_normal_data"
   ],
   "metadata": {
    "collapsed": false
   },
   "id": "21237be99df470be"
  },
  {
   "cell_type": "code",
   "execution_count": null,
   "outputs": [],
   "source": [
    "physical_normal_data # Is going to need a lot of preprocessing ... use `file` on all physical files to verify their encoding... a function would be great I think"
   ],
   "metadata": {
    "collapsed": false
   },
   "id": "eff01c21b8aadc08"
  },
  {
   "cell_type": "code",
   "execution_count": null,
   "outputs": [],
   "source": [
    "# TODO:\n",
    "# Make a function to clean the physical datasets\n",
    "# Make datasets for train and test with samples (I suspect using everything would be too much for my poor cpu)\n",
    "# Train some models: Isolation Forest, LOF, KNN, SVM, Naive Bayes\n",
    "# Generate basic statistics and visualisations\n",
    "# This would be enough for 26.10 and should not be long\n",
    "# Why not train a MLP :eyes: ?"
   ],
   "metadata": {
    "collapsed": false
   },
   "id": "cf81354409150f11"
  }
 ],
 "metadata": {
  "kernelspec": {
   "display_name": "Python 3",
   "language": "python",
   "name": "python3"
  },
  "language_info": {
   "codemirror_mode": {
    "name": "ipython",
    "version": 2
   },
   "file_extension": ".py",
   "mimetype": "text/x-python",
   "name": "python",
   "nbconvert_exporter": "python",
   "pygments_lexer": "ipython2",
   "version": "2.7.6"
  }
 },
 "nbformat": 4,
 "nbformat_minor": 5
}
