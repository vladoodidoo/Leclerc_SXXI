{
 "cells": [
  {
   "cell_type": "code",
   "execution_count": 2,
   "id": "initial_id",
   "metadata": {
    "collapsed": true,
    "ExecuteTime": {
     "end_time": "2023-10-22T13:50:54.820063718Z",
     "start_time": "2023-10-22T13:50:54.275028238Z"
    }
   },
   "outputs": [],
   "source": [
    "import pandas as pd"
   ]
  },
  {
   "cell_type": "code",
   "execution_count": 9,
   "outputs": [],
   "source": [
    "network_normal_data = pd.read_csv(\"dataset/Network datatset/csv/normal.csv\")"
   ],
   "metadata": {
    "collapsed": false,
    "ExecuteTime": {
     "end_time": "2023-10-22T13:56:26.202799947Z",
     "start_time": "2023-10-22T13:56:14.650073379Z"
    }
   },
   "id": "ba9fa24b090ef012"
  },
  {
   "cell_type": "code",
   "execution_count": 11,
   "outputs": [],
   "source": [
    "physical_normal_data = pd.read_csv(\"dataset/Physical dataset/phy_norm.csv\", encoding='utf-16')"
   ],
   "metadata": {
    "collapsed": false,
    "ExecuteTime": {
     "end_time": "2023-10-22T13:57:52.091262381Z",
     "start_time": "2023-10-22T13:57:52.045488062Z"
    }
   },
   "id": "61baac5d20a3af0a"
  },
  {
   "cell_type": "code",
   "execution_count": 12,
   "outputs": [
    {
     "data": {
      "text/plain": "     Time\\tTank_1\\tTank_2\\tTank_3\\tTank_4\\tTank_5\\tTank_6\\tTank_7\\tTank_8\\tPump_1\\tPump_2\\tPump_3\\tPump_4\\tPump_5\\tPump_6\\tFlow_sensor_1\\tFlow_sensor_2\\tFlow_sensor_3\\tFlow_sensor_4\\tValv_1\\tValv_2\\tValv_3\\tValv_4\\tValv_5\\tValv_6\\tValv_7\\tValv_8\\tValv_9\\tValv_10\\tValv_11\\tValv_12\\tValv_13\\tValv_14\\tValv_15\\tValv_16\\tValv_17\\tValv_18\\tValv_19\\tValv_20\\tValv_21\\tValv_22\\tLabel_n\\tLabel\n0     09/04/2021 11:30:50\\t0\\t0\\t0\\t0\\t0\\t0\\t0\\t0\\tf...                                                                                                                                                                                                                                                                                                                                           \n1     09/04/2021 11:30:51\\t0\\t0\\t0\\t0\\t0\\t0\\t0\\t0\\tf...                                                                                                                                                                                                                                                                                                                                           \n2     09/04/2021 11:30:52\\t0\\t0\\t0\\t0\\t0\\t0\\t0\\t0\\tf...                                                                                                                                                                                                                                                                                                                                           \n3     09/04/2021 11:30:53\\t0\\t0\\t0\\t0\\t0\\t0\\t0\\t0\\tf...                                                                                                                                                                                                                                                                                                                                           \n4     09/04/2021 11:30:54\\t0\\t0\\t0\\t0\\t0\\t0\\t0\\t0\\tf...                                                                                                                                                                                                                                                                                                                                           \n...                                                 ...                                                                                                                                                                                                                                                                                                                                           \n3423  09/04/2021 12:27:53\\t4\\t1037\\t7\\t452\\t300\\t432...                                                                                                                                                                                                                                                                                                                                           \n3424  09/04/2021 12:27:54\\t3\\t1059\\t7\\t439\\t296\\t431...                                                                                                                                                                                                                                                                                                                                           \n3425  09/04/2021 12:27:55\\t4\\t1091\\t8\\t429\\t291\\t431...                                                                                                                                                                                                                                                                                                                                           \n3426  09/04/2021 12:27:56\\t4\\t1131\\t8\\t417\\t288\\t421...                                                                                                                                                                                                                                                                                                                                           \n3427  09/04/2021 12:27:57\\t4\\t1135\\t7\\t404\\t282\\t421...                                                                                                                                                                                                                                                                                                                                           \n\n[3428 rows x 1 columns]",
      "text/html": "<div>\n<style scoped>\n    .dataframe tbody tr th:only-of-type {\n        vertical-align: middle;\n    }\n\n    .dataframe tbody tr th {\n        vertical-align: top;\n    }\n\n    .dataframe thead th {\n        text-align: right;\n    }\n</style>\n<table border=\"1\" class=\"dataframe\">\n  <thead>\n    <tr style=\"text-align: right;\">\n      <th></th>\n      <th>Time\\tTank_1\\tTank_2\\tTank_3\\tTank_4\\tTank_5\\tTank_6\\tTank_7\\tTank_8\\tPump_1\\tPump_2\\tPump_3\\tPump_4\\tPump_5\\tPump_6\\tFlow_sensor_1\\tFlow_sensor_2\\tFlow_sensor_3\\tFlow_sensor_4\\tValv_1\\tValv_2\\tValv_3\\tValv_4\\tValv_5\\tValv_6\\tValv_7\\tValv_8\\tValv_9\\tValv_10\\tValv_11\\tValv_12\\tValv_13\\tValv_14\\tValv_15\\tValv_16\\tValv_17\\tValv_18\\tValv_19\\tValv_20\\tValv_21\\tValv_22\\tLabel_n\\tLabel</th>\n    </tr>\n  </thead>\n  <tbody>\n    <tr>\n      <th>0</th>\n      <td>09/04/2021 11:30:50\\t0\\t0\\t0\\t0\\t0\\t0\\t0\\t0\\tf...</td>\n    </tr>\n    <tr>\n      <th>1</th>\n      <td>09/04/2021 11:30:51\\t0\\t0\\t0\\t0\\t0\\t0\\t0\\t0\\tf...</td>\n    </tr>\n    <tr>\n      <th>2</th>\n      <td>09/04/2021 11:30:52\\t0\\t0\\t0\\t0\\t0\\t0\\t0\\t0\\tf...</td>\n    </tr>\n    <tr>\n      <th>3</th>\n      <td>09/04/2021 11:30:53\\t0\\t0\\t0\\t0\\t0\\t0\\t0\\t0\\tf...</td>\n    </tr>\n    <tr>\n      <th>4</th>\n      <td>09/04/2021 11:30:54\\t0\\t0\\t0\\t0\\t0\\t0\\t0\\t0\\tf...</td>\n    </tr>\n    <tr>\n      <th>...</th>\n      <td>...</td>\n    </tr>\n    <tr>\n      <th>3423</th>\n      <td>09/04/2021 12:27:53\\t4\\t1037\\t7\\t452\\t300\\t432...</td>\n    </tr>\n    <tr>\n      <th>3424</th>\n      <td>09/04/2021 12:27:54\\t3\\t1059\\t7\\t439\\t296\\t431...</td>\n    </tr>\n    <tr>\n      <th>3425</th>\n      <td>09/04/2021 12:27:55\\t4\\t1091\\t8\\t429\\t291\\t431...</td>\n    </tr>\n    <tr>\n      <th>3426</th>\n      <td>09/04/2021 12:27:56\\t4\\t1131\\t8\\t417\\t288\\t421...</td>\n    </tr>\n    <tr>\n      <th>3427</th>\n      <td>09/04/2021 12:27:57\\t4\\t1135\\t7\\t404\\t282\\t421...</td>\n    </tr>\n  </tbody>\n</table>\n<p>3428 rows × 1 columns</p>\n</div>"
     },
     "execution_count": 12,
     "metadata": {},
     "output_type": "execute_result"
    }
   ],
   "source": [
    "physical_normal_data # Is going to need a lot of preprocssing ... use `file` on all physical files to verify their encoding... a function would be great I think"
   ],
   "metadata": {
    "collapsed": false,
    "ExecuteTime": {
     "end_time": "2023-10-22T13:57:58.518782085Z",
     "start_time": "2023-10-22T13:57:58.505370007Z"
    }
   },
   "id": "eff01c21b8aadc08"
  },
  {
   "cell_type": "code",
   "execution_count": null,
   "outputs": [],
   "source": [
    "# TODO:\n",
    "# Make a function to clean the physical datasets\n",
    "# Make datasets for train and test with samples (I suspect using everything would be too much for my poor cpu)\n",
    "# Train some models: Isolation Forest, LOF, KNN, SVM, Naive Bayes\n",
    "# Generate basic statistics and visualisations\n",
    "# This would be enough for 26.10 and should not be long\n",
    "# Why not train a MLP :eyes: ?"
   ],
   "metadata": {
    "collapsed": false
   },
   "id": "cf81354409150f11"
  }
 ],
 "metadata": {
  "kernelspec": {
   "display_name": "Python 3",
   "language": "python",
   "name": "python3"
  },
  "language_info": {
   "codemirror_mode": {
    "name": "ipython",
    "version": 2
   },
   "file_extension": ".py",
   "mimetype": "text/x-python",
   "name": "python",
   "nbconvert_exporter": "python",
   "pygments_lexer": "ipython2",
   "version": "2.7.6"
  }
 },
 "nbformat": 4,
 "nbformat_minor": 5
}
