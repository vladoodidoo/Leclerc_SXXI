{
 "cells": [
  {
   "cell_type": "code",
   "execution_count": null,
   "outputs": [],
   "source": [
    "!ls dataset.zip || {wget --load-cookies /tmp/cookies.txt \"https://docs.google.com/uc?export=download&confirm=$(wget --quiet --save-cookies /tmp/cookies.txt --keep-session-cookies --no-check-certificate 'https://docs.google.com/uc?export=download&id=FILEID' -O- | sed -rn 's/.*confirm=([0-9A-Za-z_]+).*/\\1\\n/p')&id=1V_a2wmNp3o02X2j0PONTtCCPCOn-kiJl\" -O dataset.zip && rm -rf /tmp/cookies.txt}"
   ],
   "metadata": {
    "collapsed": false
   },
   "id": "b496f480806801e6"
  },
  {
   "cell_type": "code",
   "execution_count": null,
   "outputs": [],
   "source": [
    "!ls dataset/ || unzip dataset.zip"
   ],
   "metadata": {
    "collapsed": false
   },
   "id": "5ebd1eb6042fb127"
  },
  {
   "cell_type": "code",
   "execution_count": null,
   "id": "initial_id",
   "metadata": {
    "collapsed": true
   },
   "outputs": [],
   "source": [
    "import pandas as pd\n",
    "from preprocessing import *\n",
    "from models import *\n",
    "from sklearn.tree import DecisionTreeClassifier\n",
    "from sklearn.neural_network import MLPClassifier\n",
    "from xgboost import XGBClassifier"
   ]
  },
  {
   "cell_type": "code",
   "execution_count": null,
   "outputs": [],
   "source": [
    "NET_COLS = [\"dport\", \"proto\", \"flags\", \"size\", \"modbus_fn\", \"n_pkt_src\", \"n_pkt_dst\", \"modbus_response\"]"
   ],
   "metadata": {
    "collapsed": false
   },
   "id": "a122113cecfe3669"
  },
  {
   "cell_type": "code",
   "execution_count": null,
   "outputs": [],
   "source": [
    "net_attack = load_network_csv(\"dataset/Network datatset/csv/attack_1.csv\")\n",
    "phy_attack =` load_physical_csv(\"dataset/Physical dataset/phy_att_1.csv\")"
   ],
   "metadata": {
    "collapsed": false
   },
   "id": "d8a0d2522c3499ee"
  },
  {
   "cell_type": "markdown",
   "source": [
    "# Preprocessing:\n",
    "\n",
    "## For the network dataset:\n",
    "    - ignoring most of the cols except those above\n",
    "    - Categorazing everything except size\n",
    "## For the physical dataset:\n",
    "    - Nothing special as everything is well defined"
   ],
   "metadata": {
    "collapsed": false
   },
   "id": "148c72472f88f99d"
  },
  {
   "cell_type": "markdown",
   "source": [
    "# Network Data"
   ],
   "metadata": {
    "collapsed": false
   },
   "id": "5de3fe7b5963f77b"
  },
  {
   "cell_type": "code",
   "execution_count": null,
   "outputs": [],
   "source": [
    "# Getting a dataset with 20% being attacks:\n",
    "pos = net_attack[(net_attack[\"label\"] != 'anomaly') & (net_attack[\"label_n\"] == 1)].iloc[:20000]\n",
    "neg = net_attack[net_attack[\"label_n\"] == 0].iloc[:80000]"
   ],
   "metadata": {
    "collapsed": false
   },
   "id": "25343bb900129f88"
  },
  {
   "cell_type": "code",
   "execution_count": null,
   "outputs": [],
   "source": [
    "net_attack = pd.concat([pos, neg])"
   ],
   "metadata": {
    "collapsed": false
   },
   "id": "c7f2e4acfe797a67"
  },
  {
   "cell_type": "code",
   "execution_count": null,
   "outputs": [],
   "source": [
    "contam = (net_attack[\"label_n\"] == 1).sum() / len(net_attack.index)"
   ],
   "metadata": {
    "collapsed": false
   },
   "id": "f77a40b2918265b3"
  },
  {
   "cell_type": "code",
   "execution_count": null,
   "outputs": [],
   "source": [
    "ml_net_attack = net_attack[NET_COLS]"
   ],
   "metadata": {
    "collapsed": false
   },
   "id": "89cc4313743e536"
  },
  {
   "cell_type": "code",
   "execution_count": null,
   "outputs": [],
   "source": [
    "ml_net_attack"
   ],
   "metadata": {
    "collapsed": false
   },
   "id": "2951158fa557939e"
  },
  {
   "cell_type": "code",
   "execution_count": null,
   "outputs": [],
   "source": [
    "lof_result = lof(ml_net_attack, contam)"
   ],
   "metadata": {
    "collapsed": false
   },
   "id": "38f0073c22b5095c"
  },
  {
   "cell_type": "code",
   "execution_count": null,
   "outputs": [],
   "source": [
    "evaluate(net_attack[\"label_n\"].iloc[:100000], lof_result)"
   ],
   "metadata": {
    "collapsed": false
   },
   "id": "e24f91b5b33f57b1"
  },
  {
   "cell_type": "code",
   "execution_count": null,
   "outputs": [],
   "source": [
    "if_result = isolation_forest(ml_net_attack, contam)"
   ],
   "metadata": {
    "collapsed": false
   },
   "id": "28bd54a64b4a1b98"
  },
  {
   "cell_type": "code",
   "execution_count": null,
   "outputs": [],
   "source": [
    "evaluate(net_attack[\"label_n\"].iloc[:100000], if_result)"
   ],
   "metadata": {
    "collapsed": false
   },
   "id": "7b049205f9ee57ff"
  },
  {
   "cell_type": "code",
   "execution_count": null,
   "outputs": [],
   "source": [
    "svc(net_attack, NET_COLS)"
   ],
   "metadata": {
    "collapsed": false
   },
   "id": "a5231d9814de52d1"
  },
  {
   "cell_type": "code",
   "execution_count": null,
   "outputs": [],
   "source": [
    "model_fit_network(DecisionTreeClassifier(), NET_COLS, net_attack)"
   ],
   "metadata": {
    "collapsed": false
   },
   "id": "6c7c9a06a168362c"
  },
  {
   "cell_type": "code",
   "execution_count": null,
   "outputs": [],
   "source": [
    "#model_fit_network(XGBClassifier(), NET_COLS, net_attack)\n",
    "#XGBoost est pas content avec les donnees du network"
   ],
   "metadata": {
    "collapsed": false
   },
   "id": "883860019b807553"
  },
  {
   "cell_type": "markdown",
   "source": [
    "## With Physical Data"
   ],
   "metadata": {
    "collapsed": false
   },
   "id": "6c629aae353e1008"
  },
  {
   "cell_type": "code",
   "execution_count": null,
   "outputs": [],
   "source": [
    "phy_attack"
   ],
   "metadata": {
    "collapsed": false
   },
   "id": "5e46a4d90c51de5b"
  },
  {
   "cell_type": "code",
   "execution_count": null,
   "outputs": [],
   "source": [
    "contamination = (phy_attack[\"Label_n\"] == 1).sum() / len(phy_attack.index) "
   ],
   "metadata": {
    "collapsed": false
   },
   "id": "b6c5e57f945b26fc"
  },
  {
   "cell_type": "code",
   "execution_count": null,
   "outputs": [],
   "source": [
    "lof_result = lof(phy_attack.loc[:, phy_attack.columns != \"Label_n\"], contamination=contamination, preprocess=False)"
   ],
   "metadata": {
    "collapsed": false
   },
   "id": "98215209369f2152"
  },
  {
   "cell_type": "code",
   "execution_count": null,
   "outputs": [],
   "source": [
    "evaluate(phy_attack[\"Label_n\"], lof_result)"
   ],
   "metadata": {
    "collapsed": false
   },
   "id": "ac3b906a44d5d7f0"
  },
  {
   "cell_type": "code",
   "execution_count": null,
   "outputs": [],
   "source": [
    "if_result = isolation_forest(phy_attack.loc[:, phy_attack.columns != \"Label_n\"], contamination=contamination, preprocess=False)"
   ],
   "metadata": {
    "collapsed": false
   },
   "id": "d6d1f1ea93a76b80"
  },
  {
   "cell_type": "code",
   "execution_count": null,
   "outputs": [],
   "source": [
    "evaluate(phy_attack[\"Label_n\"], if_result)"
   ],
   "metadata": {
    "collapsed": false
   },
   "id": "7d3428537711938d"
  },
  {
   "cell_type": "code",
   "execution_count": null,
   "outputs": [],
   "source": [
    "svc_physical(phy_attack, phy_attack.loc[:, phy_attack.columns != \"Label_n\"], phy_attack[\"Label_n\"])"
   ],
   "metadata": {
    "collapsed": false
   },
   "id": "f924c6d9123bc6a2"
  },
  {
   "cell_type": "code",
   "execution_count": null,
   "outputs": [],
   "source": [
    "model_fit(DecisionTreeClassifier(), phy_attack, phy_attack.loc[:, phy_attack.columns != \"Label_n\"], phy_attack[\"Label_n\"])"
   ],
   "metadata": {
    "collapsed": false
   },
   "id": "815a2485fde5c279"
  },
  {
   "cell_type": "code",
   "execution_count": null,
   "outputs": [],
   "source": [
    "model_fit(MLPClassifier(), phy_attack, phy_attack.loc[:, phy_attack.columns != \"Label_n\"], phy_attack[\"Label_n\"])"
   ],
   "metadata": {
    "collapsed": false
   },
   "id": "9f870794bd812511"
  },
  {
   "cell_type": "code",
   "execution_count": null,
   "outputs": [],
   "source": [
    "model_fit(XGBClassifier(), phy_attack, phy_attack.loc[:, phy_attack.columns != \"Label_n\"], phy_attack[\"Label_n\"])"
   ],
   "metadata": {
    "collapsed": false
   },
   "id": "b339b4bfd565f93f"
  },
  {
   "cell_type": "markdown",
   "source": [
    "# TODO: \n",
    "  #### Better preprocessing of data in order to have a more accurate prediction (especially with the physical dataset).\n",
    "  #### Trying the models on the other csv.\n",
    "  #### Training the models with data from all csv files.\n",
    "  #### Trying to aggregate both types of data.\n",
    "  #### Classifiation of the type of attacks.\n",
    "    "
   ],
   "metadata": {
    "collapsed": false
   },
   "id": "9749477258ed4987"
  }
 ],
 "metadata": {
  "kernelspec": {
   "display_name": "Python 3",
   "language": "python",
   "name": "python3"
  },
  "language_info": {
   "codemirror_mode": {
    "name": "ipython",
    "version": 2
   },
   "file_extension": ".py",
   "mimetype": "text/x-python",
   "name": "python",
   "nbconvert_exporter": "python",
   "pygments_lexer": "ipython2",
   "version": "2.7.6"
  }
 },
 "nbformat": 4,
 "nbformat_minor": 5
}
